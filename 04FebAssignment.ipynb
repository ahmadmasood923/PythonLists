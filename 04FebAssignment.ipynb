{
 "cells": [
  {
   "cell_type": "markdown",
   "id": "d1eb57aa-26d5-4efa-93f5-b44706568c33",
   "metadata": {},
   "source": [
    "## Ques 1:"
   ]
  },
  {
   "cell_type": "code",
   "execution_count": 4,
   "id": "3134ed8e-5c88-401a-bc59-89dfa08f4f1b",
   "metadata": {},
   "outputs": [
    {
     "data": {
      "text/plain": [
       "[('Virat Kohli', 24936),\n",
       " ('Jack Kallis', 25534),\n",
       " ('Ricky Ponting', 27483),\n",
       " ('Sachin Tendulkar', 34357)]"
      ]
     },
     "execution_count": 4,
     "metadata": {},
     "output_type": "execute_result"
    }
   ],
   "source": [
    "ls1 = [('Sachin Tendulkar', 34357), ('Ricky Ponting', 27483), ('Jack Kallis', 25534), ('Virat Kohli', 24936)]\n",
    "ls1.sort(key = lambda x: x[1])\n",
    "ls1"
   ]
  },
  {
   "cell_type": "markdown",
   "id": "287f6307-c7fa-4736-8879-d709dd72e7e7",
   "metadata": {},
   "source": [
    "## Ques 2:\n"
   ]
  },
  {
   "cell_type": "code",
   "execution_count": 6,
   "id": "d1e57f26-39fa-42be-ad69-961831c49cfc",
   "metadata": {},
   "outputs": [
    {
     "data": {
      "text/plain": [
       "[1, 4, 9, 16, 25, 36, 49, 64, 81, 100]"
      ]
     },
     "execution_count": 6,
     "metadata": {},
     "output_type": "execute_result"
    }
   ],
   "source": [
    "ls1 = [1, 2, 3, 4, 5, 6, 7, 8, 9, 10]\n",
    "ls2 = list(map(lambda x: x**2, ls1))\n",
    "ls2"
   ]
  },
  {
   "cell_type": "markdown",
   "id": "79110c09-5d67-4724-922b-a73a9970752c",
   "metadata": {},
   "source": [
    "## Ques 3:"
   ]
  },
  {
   "cell_type": "code",
   "execution_count": 7,
   "id": "90a323b3-5653-4634-a4db-9d24a31a663c",
   "metadata": {},
   "outputs": [
    {
     "data": {
      "text/plain": [
       "('1', '2', '3', '4', '5', '6', '7', '8', '9', '10')"
      ]
     },
     "execution_count": 7,
     "metadata": {},
     "output_type": "execute_result"
    }
   ],
   "source": [
    "lst1 = [1, 2, 3, 4, 5, 6, 7, 8, 9, 10]\n",
    "lst2 = tuple(map(lambda x: str(x), lst1))\n",
    "lst2"
   ]
  },
  {
   "cell_type": "markdown",
   "id": "013c6d61-c488-4fbe-9eb1-ea03ecd6eafd",
   "metadata": {},
   "source": [
    "## Ques 4:"
   ]
  },
  {
   "cell_type": "code",
   "execution_count": 10,
   "id": "62af3640-f501-4017-bd28-fec5d24ca611",
   "metadata": {},
   "outputs": [
    {
     "data": {
      "text/plain": [
       "15511210043330985984000000"
      ]
     },
     "execution_count": 10,
     "metadata": {},
     "output_type": "execute_result"
    }
   ],
   "source": [
    "lst1 = range(1, 26)\n",
    "from functools import reduce\n",
    "product = reduce(lambda x,y: x*y, lst1)\n",
    "product"
   ]
  },
  {
   "cell_type": "markdown",
   "id": "b09897be-9727-45b0-bb88-aa214ad0d9fb",
   "metadata": {},
   "source": [
    "## Ques 5:"
   ]
  },
  {
   "cell_type": "code",
   "execution_count": 15,
   "id": "7e9bf09e-96d5-4ce8-b296-95d0d4585f74",
   "metadata": {},
   "outputs": [
    {
     "data": {
      "text/plain": [
       "[6, 60, 90, 120]"
      ]
     },
     "execution_count": 15,
     "metadata": {},
     "output_type": "execute_result"
    }
   ],
   "source": [
    "lst1 = [2, 3, 6, 9, 27, 60, 90, 120, 55, 46]\n",
    "lst2 = list(filter(lambda x:x%2==0 and x%3==0, lst1))\n",
    "lst2"
   ]
  },
  {
   "cell_type": "markdown",
   "id": "ae15cf8e-063c-41a6-a194-a4770fba9f6e",
   "metadata": {},
   "source": [
    "## Ques 6:"
   ]
  },
  {
   "cell_type": "code",
   "execution_count": 16,
   "id": "b8ed8bb0-92e1-4be0-8318-5935106c6945",
   "metadata": {},
   "outputs": [],
   "source": [
    "lst1 = ['python', 'php', 'aba', 'radar', 'level']\n",
    "lst2 = list(filter(lambda x:x[::-1]==x, lst1))\n"
   ]
  },
  {
   "cell_type": "code",
   "execution_count": null,
   "id": "56f29595-e592-4cba-9577-e037d44f9f1b",
   "metadata": {},
   "outputs": [],
   "source": []
  }
 ],
 "metadata": {
  "kernelspec": {
   "display_name": "Python 3 (ipykernel)",
   "language": "python",
   "name": "python3"
  },
  "language_info": {
   "codemirror_mode": {
    "name": "ipython",
    "version": 3
   },
   "file_extension": ".py",
   "mimetype": "text/x-python",
   "name": "python",
   "nbconvert_exporter": "python",
   "pygments_lexer": "ipython3",
   "version": "3.10.8"
  }
 },
 "nbformat": 4,
 "nbformat_minor": 5
}
